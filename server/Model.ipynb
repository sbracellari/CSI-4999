{
 "cells": [
  {
   "cell_type": "code",
   "execution_count": null,
   "metadata": {},
   "outputs": [],
   "source": [
    "import tensorflow as tf\n",
    "import tensorflow_hub as hub\n",
    "from transformers import BertTokenizer\n",
    "\n",
    "tokenizer = BertTokenizer.from_pretrained('bert-base-uncased')\n",
    "model = hub.load(\"https://tfhub.dev/see--/bert-uncased-tf2-qa/1\")"
   ]
  },
  {
   "cell_type": "code",
   "execution_count": null,
   "metadata": {},
   "outputs": [],
   "source": [
    "questions = ['']\n",
    "paragraph = ''' '''\n",
    "\n"
   ]
  },
  {
   "cell_type": "code",
   "execution_count": null,
   "metadata": {},
   "outputs": [],
   "source": [
    "for question in questions:\n",
    "  question_tokens = tokenizer.tokenize(question)\n",
    "  paragraph_tokens = tokenizer.tokenize(paragraph)\n",
    "  tokens = ['[CLS]'] + question_tokens + ['[SEP]'] + paragraph_tokens + ['[SEP]']\n",
    "  input_word_ids = tokenizer.convert_tokens_to_ids(tokens)\n",
    "  input_mask = [1] * len(input_word_ids)\n",
    "  input_type_ids = [0] * (1 + len(question_tokens) + 1) + [1] * (len(paragraph_tokens) + 1)\n",
    "\n",
    "  input_word_ids, input_mask, input_type_ids = map(lambda t: tf.expand_dims(\n",
    "      tf.convert_to_tensor(t, dtype=tf.int32), 0), (input_word_ids, input_mask, input_type_ids))\n",
    "  outputs = model([input_word_ids, input_mask, input_type_ids])\n",
    "  # using `[1:]` will enforce an answer. `outputs[0][0][0]` is the ignored '[CLS]' token logit\n",
    "  short_start = tf.argmax(outputs[0][0][1:]) + 1\n",
    "  short_end = tf.argmax(outputs[1][0][1:]) + 1\n",
    "  answer_tokens = tokens[short_start: short_end + 1]\n",
    "  answer = tokenizer.convert_tokens_to_string(answer_tokens)\n",
    "  print(f'Question: {question}')\n",
    "  print(f'Answer: {answer}')"
   ]
  },
  {
   "cell_type": "code",
   "execution_count": null,
   "metadata": {},
   "outputs": [],
   "source": []
  }
 ],
 "metadata": {
  "kernelspec": {
   "display_name": "Python 3",
   "language": "python",
   "name": "python3"
  },
  "language_info": {
   "codemirror_mode": {
    "name": "ipython",
    "version": 3
   },
   "file_extension": ".py",
   "mimetype": "text/x-python",
   "name": "python",
   "nbconvert_exporter": "python",
   "pygments_lexer": "ipython3",
   "version": "3.8.5"
  }
 },
 "nbformat": 4,
 "nbformat_minor": 4
}
